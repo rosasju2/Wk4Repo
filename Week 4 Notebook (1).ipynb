{
  "metadata": {
    "language_info": {
      "codemirror_mode": {
        "name": "python",
        "version": 3
      },
      "file_extension": ".py",
      "mimetype": "text/x-python",
      "name": "python",
      "nbconvert_exporter": "python",
      "pygments_lexer": "ipython3",
      "version": "3.8"
    },
    "kernelspec": {
      "name": "python",
      "display_name": "Pyolite",
      "language": "python"
    }
  },
  "nbformat_minor": 4,
  "nbformat": 4,
  "cells": [
    {
      "cell_type": "markdown",
      "source": "# My Jupyter Notebook on IBM Watson Studio",
      "metadata": {
        "tags": []
      }
    },
    {
      "cell_type": "markdown",
      "source": "**Pablo Rosas Jureidini**  \n  High Tech Strategy Manager",
      "metadata": {}
    },
    {
      "cell_type": "markdown",
      "source": "I am interested in Data Science because I have been able to experience first-hand its power and impact in a range of business settings. For that reason, I want to improve my skills in statistics and data analysis through a strong foundation in data science fundamentals.",
      "metadata": {}
    },
    {
      "cell_type": "markdown",
      "source": "### The code below performs a simple multiplication:",
      "metadata": {}
    },
    {
      "cell_type": "code",
      "source": "result = 155 * 233\nprint (\"150 times 233 equals\" + \" \" + str(result))",
      "metadata": {
        "trusted": true
      },
      "execution_count": 7,
      "outputs": [
        {
          "name": "stdout",
          "text": "150 times 233 equals 36115\n",
          "output_type": "stream"
        }
      ]
    },
    {
      "cell_type": "markdown",
      "source": "Here is a list of some `programming languages` utilized by `data scientists`:  \n  1. [Python](https://www.python.org/)\n  2. [R](https://www.r-project.org/)\n  3. [SQL](https://en.wikipedia.org/wiki/SQL)\n  4. [Java](https://en.wikipedia.org/wiki/Java_(programming_language)",
      "metadata": {}
    },
    {
      "cell_type": "code",
      "source": "",
      "metadata": {},
      "execution_count": null,
      "outputs": []
    }
  ]
}